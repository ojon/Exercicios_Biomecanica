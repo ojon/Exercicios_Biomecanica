{
 "metadata": {
  "name": ""
 },
 "nbformat": 3,
 "nbformat_minor": 0,
 "worksheets": [
  {
   "cells": [
    {
     "cell_type": "markdown",
     "metadata": {},
     "source": [
      "##Salto em Dist\u00e2ncia\n",
      "\n",
      "autor: Jo\u00e3o Oda\n",
      "\n",
      "\n",
      "Vamos analisar um salto em dist\u00e2ncia em que o atleta salta com uma velocidade inicial dada pelo vetor $\\vec{v} = (8.10, 3.58, 0)$ em m/s"
     ]
    },
    {
     "cell_type": "markdown",
     "metadata": {},
     "source": [
      "Vamos calcular algumas coisas:\n",
      "\n",
      "### A magnitude do a velocidade da velocidade na decolagem\n",
      "A magnitude do a velocidade da velocidade na decolagem \u00e9 simplesmente a norma do vetor velocidade:\n"
     ]
    },
    {
     "cell_type": "code",
     "collapsed": false,
     "input": [
      "import numpy as np\n",
      "\n",
      "v0x = 8.10\n",
      "v0y = 3.58\n",
      "v0 = np.mat([v0x, v0y])\n",
      "magnitudeV0 = np.linalg.norm(v0)\n",
      "print magnitudeV0"
     ],
     "language": "python",
     "metadata": {},
     "outputs": [
      {
       "output_type": "stream",
       "stream": "stdout",
       "text": [
        "8.85586811103\n"
       ]
      }
     ],
     "prompt_number": 1
    },
    {
     "cell_type": "markdown",
     "metadata": {},
     "source": [
      "Assim a __magnitude da velocidade de decolagem__  \u00e9 dada por 8.86 m/s"
     ]
    },
    {
     "cell_type": "markdown",
     "metadata": {},
     "source": [
      "### O \u00e2ngulo de decolagem\n",
      "\n",
      "O __\u00e2ngulo de decolagem__ $\\theta$ \u00e9 dado por: $$arctan\\bigg(\\frac{V_{0y}}{V_{0x}}\\bigg) = arctan\\bigg(\\frac{3.58}{8.10}\\bigg) $$"
     ]
    },
    {
     "cell_type": "code",
     "collapsed": false,
     "input": [
      "import math\n",
      "theta = math.degrees(np.arctan(v0y/v0x))\n",
      "print theta"
     ],
     "language": "python",
     "metadata": {},
     "outputs": [
      {
       "output_type": "stream",
       "stream": "stdout",
       "text": [
        "23.8442451581\n"
       ]
      }
     ],
     "prompt_number": 2
    },
    {
     "cell_type": "markdown",
     "metadata": {},
     "source": [
      "Assim $$\\theta = 23.74^o$$"
     ]
    },
    {
     "cell_type": "markdown",
     "metadata": {},
     "source": [
      "### A dist\u00e2ncia do pulo\n",
      "\n",
      "#### modelo 1\n",
      "\n",
      "Vamos come\u00e7ar com uma modelagem simples, onde consideramos o atleta como uma particula. Inicialmente vamos calcular o tempo que o atleta fica no ar, para isto vamos considerar somente as componentes verticais, sendo o movimento descrito por:\n",
      "\n",
      "$$y(t) = y_0 + v_{0y}t -\\frac{gt^2}{2}$$\n"
     ]
    },
    {
     "cell_type": "markdown",
     "metadata": {},
     "source": [
      "onde $g =  9,8m/s^2$ \u00e9 a acelera\u00e7\u00e3o da gravidade"
     ]
    },
    {
     "cell_type": "markdown",
     "metadata": {},
     "source": [
      "vamos adotar um sistema de coordenadas de forma que $y_0$ = 0 e nossa refer\u00eancia de tempo de forma o instante $t_0 = 0$ corresponda a decolagem. Agora resolvemos a equa\u00e7\u00e3o $y(t) =$ em busca da solu\u00e7\u00e3o n\u00e3o trivial, i. e. diferente de zero encontraremos o valor $t_f$ correspondente ao inst\u00e2nte de aterrisagem"
     ]
    },
    {
     "cell_type": "code",
     "collapsed": false,
     "input": [
      "## vamos resolver a eq da parabola com sympy\n",
      "import sympy as sym\n",
      "from sympy import *\n",
      "from sympy.interactive import printing\n",
      "printing.init_printing()\n",
      "\n",
      "g = 9.8\n",
      "t = symbols(\"t\")\n",
      "eq = v0y*t - (g*t*t)/2\n",
      "[t0, tf] = solve(eq,t)\n",
      "print tf"
     ],
     "language": "python",
     "metadata": {},
     "outputs": [
      {
       "output_type": "stream",
       "stream": "stdout",
       "text": [
        "0.730612244897959\n"
       ]
      }
     ],
     "prompt_number": 3
    },
    {
     "cell_type": "markdown",
     "metadata": {},
     "source": [
      "Assim o atleta fica cerca de 0.730 segundos no ar. Agora para calcular a dist\u00e2ncia do pulo $x(t_f)$ multiplicamos o tempo que o atleta fica no ar pela velocidade $V_{0x}$ no eixo x(anterior-posterior), uma vez que n\u00e3o temos nenhuma for\u00e7a atuando neste eixo durante o pulo, a velocidade $V_x = V_{0x}$se mant\u00e9m constante at\u00e9 a aterrisagem. "
     ]
    },
    {
     "cell_type": "code",
     "collapsed": false,
     "input": [
      "print tf*v0x"
     ],
     "language": "python",
     "metadata": {},
     "outputs": [
      {
       "output_type": "stream",
       "stream": "stdout",
       "text": [
        "5.91795918367347\n"
       ]
      }
     ],
     "prompt_number": 4
    },
    {
     "cell_type": "markdown",
     "metadata": {},
     "source": [
      "Assim: $ x(t_f) = t_f V_{0x} = 5,92m$ \u00e9  dist\u00e2ncia do pulo"
     ]
    },
    {
     "cell_type": "markdown",
     "metadata": {},
     "source": [
      "#### modelo 2"
     ]
    },
    {
     "cell_type": "markdown",
     "metadata": {},
     "source": [
      "A dist\u00e2ncia de fato do pulo \u00e9 de 6,75m. Vamos agora ent\u00e3o tentar elaborar um modelo um pouco mais complexo e ver se obtemos um valor mais pr\u00f3ximo do real obtido. Vamos considerar agora a trajet\u00f3ria do centro de massa do atleta, vamos considerar ent\u00e3o que durante a decolagem a posi\u00e7\u00e3o do centro massa \u00e9 dada pelo velor $\\vec{l}$, sendo que o modulo deste vetor nos fornece a  dist\u00e2ncia entre o centro massa e ponta do p\u00e9 que impulsiona o atleta no momento da decolagem. Vamos considerar tamb\u00e9m que o momento da aterrissagem correponde ao instante em que o centro de gravidade atige uma altura $h$ sendo $h < l_y$"
     ]
    },
    {
     "cell_type": "markdown",
     "metadata": {},
     "source": [
      "$$ l_y + v_{0y}t -\\frac{gt^2}{2} = h \\Longleftrightarrow\n",
      "(l_y - h) + v_{0y}t -\\frac{gt^2}{2}= 0$$"
     ]
    },
    {
     "cell_type": "markdown",
     "metadata": {},
     "source": [
      "Vamos considerar $\\vec{l} = (0.4,0.9)$ e $h = 0.7m$"
     ]
    },
    {
     "cell_type": "code",
     "collapsed": false,
     "input": [
      "ly = 0.9\n",
      "lx = 0.4\n",
      "h = 0.7\n",
      "eq = (ly - h) + v0y*t - (g*t*t)/2\n",
      "[t0, tf] = solve(eq,t)\n",
      "print tf"
     ],
     "language": "python",
     "metadata": {},
     "outputs": [
      {
       "output_type": "stream",
       "stream": "stdout",
       "text": [
        "0.782756586132182\n"
       ]
      }
     ],
     "prompt_number": 5
    },
    {
     "cell_type": "markdown",
     "metadata": {},
     "source": [
      "Assim o atleta fica cerca de 0.782 segundos no ar. Para calcular a dist\u00e2ncia do pulo devemos considerar a posi\u00e7\u00e3o inicial do centro de gravidade:"
     ]
    },
    {
     "cell_type": "code",
     "collapsed": false,
     "input": [
      "print lx + tf*v0x"
     ],
     "language": "python",
     "metadata": {},
     "outputs": [
      {
       "output_type": "stream",
       "stream": "stdout",
       "text": [
        "6.74032834767068\n"
       ]
      }
     ],
     "prompt_number": 6
    },
    {
     "cell_type": "markdown",
     "metadata": {},
     "source": [
      "Assim: $ x(t_f) = l_x + t_f V_{0x} = 6,74m$ \u00e9  dist\u00e2ncia do pulo segundo o modelo 2"
     ]
    }
   ],
   "metadata": {}
  }
 ]
}